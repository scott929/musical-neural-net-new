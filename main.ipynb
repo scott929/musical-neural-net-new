{
 "cells": [
  {
   "cell_type": "code",
   "execution_count": 1,
   "id": "angry-contamination",
   "metadata": {},
   "outputs": [],
   "source": [
    "from fastai.text.all import *"
   ]
  },
  {
   "cell_type": "code",
   "execution_count": 2,
   "id": "micro-typing",
   "metadata": {},
   "outputs": [
    {
     "data": {
      "text/plain": [
       "Path('data')"
      ]
     },
     "execution_count": 2,
     "metadata": {},
     "output_type": "execute_result"
    }
   ],
   "source": [
    "path = Path('./data')\n",
    "path"
   ]
  },
  {
   "cell_type": "code",
   "execution_count": 3,
   "id": "early-garbage",
   "metadata": {},
   "outputs": [
    {
     "data": {
      "text/plain": [
       "(#148) [Path('data/train/bachcou.txt'),Path('data/train/25etude2.txt'),Path('data/train/sc_ps_03.txt'),Path('data/train/airnvari.txt'),Path('data/train/beethov.txt'),Path('data/train/be-pv07r.txt'),Path('data/train/allegro_.txt'),Path('data/train/pr_lud-1.txt'),Path('data/train/be-ps-05.txt'),Path('data/train/sy_sps94.txt')...]"
      ]
     },
     "execution_count": 3,
     "metadata": {},
     "output_type": "execute_result"
    }
   ],
   "source": [
    "files = get_text_files(path, folders = ['train', 'test'])\n",
    "files\n"
   ]
  },
  {
   "cell_type": "code",
   "execution_count": 4,
   "id": "existing-eight",
   "metadata": {},
   "outputs": [
    {
     "data": {
      "text/plain": [
       "'wait25 wait5 p43 wait6 p31 p43 wait3 endp43 wait1 p47 wait3 endp47 wait1 p42 wait3 endp42 wait1 p43 '"
      ]
     },
     "execution_count": 4,
     "metadata": {},
     "output_type": "execute_result"
    }
   ],
   "source": [
    "txt = files[0].open().read(); txt[:100]"
   ]
  },
  {
   "cell_type": "code",
   "execution_count": 5,
   "id": "collect-devon",
   "metadata": {},
   "outputs": [],
   "source": [
    "txts = L(o.open().read() for o in files[:2000])"
   ]
  },
  {
   "cell_type": "code",
   "execution_count": 4,
   "id": "accomplished-victoria",
   "metadata": {},
   "outputs": [],
   "source": [
    "get_imdb = partial(get_text_files, folders=['train', 'test'])"
   ]
  },
  {
   "cell_type": "code",
   "execution_count": 5,
   "id": "thick-henry",
   "metadata": {},
   "outputs": [],
   "source": [
    "dls_lm = DataBlock (\n",
    "    blocks=TextBlock.from_folder(path, is_lm=True,tok=BaseTokenizer()), # other option is .from_df\n",
    "    get_items=get_imdb,\n",
    "    splitter=RandomSplitter(0.1)\n",
    ").dataloaders(path, path=path, bs=128, seq_len=80)"
   ]
  },
  {
   "cell_type": "code",
   "execution_count": 12,
   "id": "taken-breed",
   "metadata": {
    "scrolled": false
   },
   "outputs": [
    {
     "data": {
      "text/html": [
       "<table border=\"1\" class=\"dataframe\">\n",
       "  <thead>\n",
       "    <tr style=\"text-align: right;\">\n",
       "      <th></th>\n",
       "      <th>text</th>\n",
       "      <th>text_</th>\n",
       "    </tr>\n",
       "  </thead>\n",
       "  <tbody>\n",
       "    <tr>\n",
       "      <th>0</th>\n",
       "      <td>xxbos p6 p18 p30 wait25 wait7 endp18 wait6 endp6 endp30 wait10 p17 p29 wait25 wait18 endp29 wait7 endp17 wait7 p10 p22 xxwrep 3 wait25 wait17 endp22 wait7 endp10 wait25 wait25 wait6 p25 p29 p34 p37 p46 wait1 p25 p41 wait2 endp29 endp34 endp37 wait3 endp25 endp41 wait2 endp46 wait8 p32 p41 p44 p49 wait3 p29 endp32 p37 endp41 wait2 endp37 endp44 wait2 endp49 wait3 endp29 wait6 p31 p36 endp36 p40 endp40 p43 endp43 p48 wait2 p28 endp31 endp48 wait2 endp28</td>\n",
       "      <td>p6 p18 p30 wait25 wait7 endp18 wait6 endp6 endp30 wait10 p17 p29 wait25 wait18 endp29 wait7 endp17 wait7 p10 p22 xxwrep 3 wait25 wait17 endp22 wait7 endp10 wait25 wait25 wait6 p25 p29 p34 p37 p46 wait1 p25 p41 wait2 endp29 endp34 endp37 wait3 endp25 endp41 wait2 endp46 wait8 p32 p41 p44 p49 wait3 p29 endp32 p37 endp41 wait2 endp37 endp44 wait2 endp49 wait3 endp29 wait6 p31 p36 endp36 p40 endp40 p43 endp43 p48 wait2 p28 endp31 endp48 wait2 endp28 wait12</td>\n",
       "    </tr>\n",
       "    <tr>\n",
       "      <th>1</th>\n",
       "      <td>wait3 p21 p33 wait3 endp21 endp33 wait1 p17 endp17 p29 endp29 wait2 p15 p27 wait3 p12 endp12 endp15 p24 endp24 endp27 wait3 p9 p21 wait3 endp9 endp21 wait1 p7 endp7 p19 endp19 wait2 p6 p18 wait5 endp6 endp18 wait1 p26 p33 p36 p38 p50 wait3 p26 p33 p36 wait3 p26 p33 p36 wait5 endp38 endp50 wait1 p26 p33 p36 p39 p51 wait5 endp33 endp36 wait1 p14 p26 wait5 endp14 endp39 endp51 wait1 p26 p33 p36 p38 p50 wait5 endp26 endp33</td>\n",
       "      <td>p21 p33 wait3 endp21 endp33 wait1 p17 endp17 p29 endp29 wait2 p15 p27 wait3 p12 endp12 endp15 p24 endp24 endp27 wait3 p9 p21 wait3 endp9 endp21 wait1 p7 endp7 p19 endp19 wait2 p6 p18 wait5 endp6 endp18 wait1 p26 p33 p36 p38 p50 wait3 p26 p33 p36 wait3 p26 p33 p36 wait5 endp38 endp50 wait1 p26 p33 p36 p39 p51 wait5 endp33 endp36 wait1 p14 p26 wait5 endp14 endp39 endp51 wait1 p26 p33 p36 p38 p50 wait5 endp26 endp33 endp36</td>\n",
       "    </tr>\n",
       "  </tbody>\n",
       "</table>"
      ],
      "text/plain": [
       "<IPython.core.display.HTML object>"
      ]
     },
     "metadata": {},
     "output_type": "display_data"
    }
   ],
   "source": [
    "dls_lm.show_batch(max_n=2)"
   ]
  },
  {
   "cell_type": "code",
   "execution_count": 7,
   "id": "powerful-cinema",
   "metadata": {
    "scrolled": true
   },
   "outputs": [],
   "source": [
    "learn = language_model_learner(\n",
    "    dls_lm, AWD_LSTM, drop_mult=0.3, \n",
    "    metrics=[accuracy, Perplexity()]).to_fp16()"
   ]
  },
  {
   "cell_type": "raw",
   "id": "operating-europe",
   "metadata": {},
   "source": [
    "learn.predict('This movie is about', n_words=20)"
   ]
  },
  {
   "cell_type": "code",
   "execution_count": 15,
   "id": "proved-server",
   "metadata": {},
   "outputs": [
    {
     "data": {
      "text/plain": [
       "Path('data/models/1epoch.pth')"
      ]
     },
     "execution_count": 15,
     "metadata": {},
     "output_type": "execute_result"
    }
   ],
   "source": [
    "learn.save('1epoch')"
   ]
  },
  {
   "cell_type": "code",
   "execution_count": 12,
   "id": "metropolitan-point",
   "metadata": {},
   "outputs": [
    {
     "data": {
      "text/html": [],
      "text/plain": [
       "<IPython.core.display.HTML object>"
      ]
     },
     "metadata": {},
     "output_type": "display_data"
    },
    {
     "data": {
      "text/plain": [
       "SuggestedLRs(lr_min=0.0005248074419796466, lr_steep=7.585775847473997e-07)"
      ]
     },
     "execution_count": 12,
     "metadata": {},
     "output_type": "execute_result"
    },
    {
     "data": {
      "image/png": "[encoded data removed]",
      "text/plain": [
       "<Figure size 432x288 with 1 Axes>"
      ]
     },
     "metadata": {
      "needs_background": "light"
     },
     "output_type": "display_data"
    }
   ],
   "source": [
    "learn.lr_find()"
   ]
  },
  {
   "cell_type": "code",
   "execution_count": 14,
   "id": "controversial-syntax",
   "metadata": {},
   "outputs": [
    {
     "data": {
      "text/html": [
       "<table border=\"1\" class=\"dataframe\">\n",
       "  <thead>\n",
       "    <tr style=\"text-align: left;\">\n",
       "      <th>epoch</th>\n",
       "      <th>train_loss</th>\n",
       "      <th>valid_loss</th>\n",
       "      <th>accuracy</th>\n",
       "      <th>perplexity</th>\n",
       "      <th>time</th>\n",
       "    </tr>\n",
       "  </thead>\n",
       "  <tbody>\n",
       "    <tr>\n",
       "      <td>0</td>\n",
       "      <td>3.478635</td>\n",
       "      <td>3.497647</td>\n",
       "      <td>0.179205</td>\n",
       "      <td>33.037632</td>\n",
       "      <td>44:42</td>\n",
       "    </tr>\n",
       "  </tbody>\n",
       "</table>"
      ],
      "text/plain": [
       "<IPython.core.display.HTML object>"
      ]
     },
     "metadata": {},
     "output_type": "display_data"
    }
   ],
   "source": [
    "learn.fit_one_cycle(1, 5e-4)"
   ]
  },
  {
   "cell_type": "code",
   "execution_count": 8,
   "id": "delayed-world",
   "metadata": {},
   "outputs": [],
   "source": [
    "learn = learn.load('1epoch')"
   ]
  },
  {
   "cell_type": "code",
   "execution_count": 16,
   "id": "velvet-geology",
   "metadata": {
    "scrolled": true
   },
   "outputs": [
    {
     "data": {
      "text/html": [
       "<table border=\"1\" class=\"dataframe\">\n",
       "  <thead>\n",
       "    <tr style=\"text-align: left;\">\n",
       "      <th>epoch</th>\n",
       "      <th>train_loss</th>\n",
       "      <th>valid_loss</th>\n",
       "      <th>accuracy</th>\n",
       "      <th>perplexity</th>\n",
       "      <th>time</th>\n",
       "    </tr>\n",
       "  </thead>\n",
       "  <tbody>\n",
       "    <tr>\n",
       "      <td>0</td>\n",
       "      <td>1.641453</td>\n",
       "      <td>1.869967</td>\n",
       "      <td>0.501366</td>\n",
       "      <td>6.488079</td>\n",
       "      <td>45:05</td>\n",
       "    </tr>\n",
       "    <tr>\n",
       "      <td>1</td>\n",
       "      <td>1.097370</td>\n",
       "      <td>1.628459</td>\n",
       "      <td>0.556926</td>\n",
       "      <td>5.096016</td>\n",
       "      <td>47:07</td>\n",
       "    </tr>\n",
       "    <tr>\n",
       "      <td>2</td>\n",
       "      <td>0.885959</td>\n",
       "      <td>1.680030</td>\n",
       "      <td>0.561083</td>\n",
       "      <td>5.365716</td>\n",
       "      <td>46:38</td>\n",
       "    </tr>\n",
       "    <tr>\n",
       "      <td>3</td>\n",
       "      <td>0.764732</td>\n",
       "      <td>1.719099</td>\n",
       "      <td>0.560181</td>\n",
       "      <td>5.579499</td>\n",
       "      <td>48:01</td>\n",
       "    </tr>\n",
       "  </tbody>\n",
       "</table>"
      ],
      "text/plain": [
       "<IPython.core.display.HTML object>"
      ]
     },
     "metadata": {},
     "output_type": "display_data"
    }
   ],
   "source": [
    "learn.unfreeze()\n",
    "learn.fit_one_cycle(4, 2e-3)"
   ]
  },
  {
   "cell_type": "code",
   "execution_count": 17,
   "id": "working-while",
   "metadata": {},
   "outputs": [
    {
     "data": {
      "text/plain": [
       "Path('data/models/1epoch.pth')"
      ]
     },
     "execution_count": 17,
     "metadata": {},
     "output_type": "execute_result"
    }
   ],
   "source": [
    "learn.save('1epoch')"
   ]
  },
  {
   "cell_type": "code",
   "execution_count": 19,
   "id": "editorial-bobby",
   "metadata": {},
   "outputs": [
    {
     "data": {
      "text/html": [],
      "text/plain": [
       "<IPython.core.display.HTML object>"
      ]
     },
     "metadata": {},
     "output_type": "display_data"
    },
    {
     "data": {
      "text/plain": [
       "'p35 p50 wait2 endp35 endp50 wait1 p38 p47 wait2 endp38 endp47 wait1 p40'"
      ]
     },
     "execution_count": 19,
     "metadata": {},
     "output_type": "execute_result"
    }
   ],
   "source": [
    "# predict one note\n",
    "review = \"p35 p50 wait2 endp35 endp50 wait1 p38 p47 wait2 endp38 endp47 wait1 \"\n",
    "learn.predict(review)"
   ]
  },
  {
   "cell_type": "code",
   "execution_count": 9,
   "id": "several-sympathy",
   "metadata": {},
   "outputs": [
    {
     "data": {
      "text/html": [],
      "text/plain": [
       "<IPython.core.display.HTML object>"
      ]
     },
     "metadata": {},
     "output_type": "display_data"
    }
   ],
   "source": [
    "TEXT = \"p16 wait3 p23 wait3 p28 wait2 endp16 wait1 p31 wait2 endp23 endp31 wait1 p35 wait2 endp28 endp35 wait1 p40 wait3 p35 wait3 p31 wait2 endp40 wait1 p16 wait2 endp35 wait1 p24 wait2 endp31 wait1 p28 wait2 endp16 wait1 p30 wait2 endp24 endp30 wait1 p33 wait2 endp28 endp33 wait1 p39 wait3 p33 wait3 p30 wait2 endp39 wait1 p16 wait2 endp33 wait1 p23 wait2 endp30 wait1 p28 wait2 endp16 wait1 p31 wait2 endp23 endp31 wait1 p35 wait2 endp28 endp35 wait1 p40 wait3 p35 wait3 p31 wait2 endp40 wait1 p16 wait2 endp35 wait1 p24 wait2 endp31 wait1 p28 wait2 endp16 wait1 p30 wait2 endp24 endp30 wait1 p33 wait2 endp28 endp33 wait1 p39 wait3 p33 wait3 p30 wait2 endp39 wait1 p16 wait2 endp33 wait1 p23 wait2 endp30 wait1 p28 wait2 endp16 wait1 p31 wait2\"\n",
    "N_WORDS = 3600\n",
    "N_SENTENCES = 1\n",
    "preds = [learn.predict(TEXT, N_WORDS, temperature=0.75) \n",
    "         for _ in range(N_SENTENCES)]"
   ]
  },
  {
   "cell_type": "code",
   "execution_count": 11,
   "id": "rapid-elements",
   "metadata": {},
   "outputs": [],
   "source": [
    "with open('/home/scott/code/musical-neural-net-master/result/sample.txt', mode='w') as f:\n",
    "    f.write(preds[0])"
   ]
  },
  {
   "cell_type": "code",
   "execution_count": 2,
   "id": "homeless-california",
   "metadata": {},
   "outputs": [],
   "source": [
    "\n",
    "import os\n",
    "from pathlib import Path\n",
    "import numpy as np\n",
    "import pandas as pd\n",
    "from math import floor\n",
    "import music21\n",
    "import random\n",
    "import dill as pickle"
   ]
  },
  {
   "cell_type": "code",
   "execution_count": 3,
   "id": "southeast-appliance",
   "metadata": {},
   "outputs": [],
   "source": [
    "def write_midi(s, filename, output_folder):\n",
    "    fp = s.write('midi', fp=output_folder/filename)\n",
    "    \n",
    "def string_inds_to_stream(string, sample_freq, note_offset, chordwise):\n",
    "    score_i = string.split(\" \")\n",
    "    if chordwise:\n",
    "        return arrToStreamChordwise(score_i, sample_freq, note_offset)\n",
    "    else:\n",
    "        return arrToStreamNotewise(score_i, sample_freq, note_offset)\n",
    "\n",
    "def arrToStreamChordwise(score, sample_freq, note_offset):\n",
    "\n",
    "    speed=1./sample_freq\n",
    "    piano_notes=[]\n",
    "    violin_notes=[]\n",
    "    time_offset=0\n",
    "    for i in range(len(score)):\n",
    "        if len(score[i])==0:\n",
    "            continue\n",
    "\n",
    "        for j in range(1,len(score[i])):\n",
    "            if score[i][j]==\"1\":\n",
    "                duration=2\n",
    "                new_note=music21.note.Note(j+note_offset)    \n",
    "                new_note.duration = music21.duration.Duration(duration*speed)\n",
    "                new_note.offset=(i+time_offset)*speed\n",
    "                if score[i][0]=='p':\n",
    "                    piano_notes.append(new_note)\n",
    "                elif score[i][0]=='v':\n",
    "                    violin_notes.append(new_note)\n",
    "    violin=music21.instrument.fromString(\"Violin\")\n",
    "    piano=music21.instrument.fromString(\"Piano\")\n",
    "    violin_notes.insert(0, violin)\n",
    "    piano_notes.insert(0, piano)\n",
    "    violin_stream=music21.stream.Stream(violin_notes)\n",
    "    piano_stream=music21.stream.Stream(piano_notes)\n",
    "    main_stream = music21.stream.Stream([violin_stream, piano_stream])\n",
    "    return main_stream\n",
    "                    \n",
    "def arrToStreamNotewise(score, sample_freq, note_offset):\n",
    "    speed=1./sample_freq\n",
    "    piano_notes=[]\n",
    "    violin_notes=[]\n",
    "    time_offset=0\n",
    "    \n",
    "    i=0\n",
    "    while i<len(score):\n",
    "        if score[i][:9]==\"p_octave_\":\n",
    "            add_wait=\"\"\n",
    "            if score[i][-3:]==\"eoc\":\n",
    "                add_wait=\"eoc\"\n",
    "                score[i]=score[i][:-3]\n",
    "            this_note=score[i][9:]\n",
    "            score[i]=\"p\"+this_note\n",
    "            score.insert(i+1, \"p\"+str(int(this_note)+12)+add_wait)\n",
    "            i+=1\n",
    "        i+=1\n",
    "        \n",
    "    for i in range(len(score)):\n",
    "        if score[i] in [\"\", \" \", \"<eos>\", \"<unk>\"]:\n",
    "            continue\n",
    "        elif score[i][:3]==\"end\":\n",
    "            if score[i][-3:]==\"eoc\":\n",
    "                time_offset+=1\n",
    "            continue\n",
    "        elif score[i][:4]==\"wait\":\n",
    "            time_offset+=int(score[i][4:])\n",
    "            continue\n",
    "        else:\n",
    "            # Look ahead to see if an end<noteid> was generated\n",
    "            # soon after.  \n",
    "            duration=1\n",
    "            has_end=False\n",
    "            note_string_len = len(score[i])\n",
    "            for j in range(1,200):\n",
    "                if i+j==len(score):\n",
    "                    break\n",
    "                if score[i+j][:4]==\"wait\":\n",
    "                    duration+=int(score[i+j][4:])\n",
    "                if score[i+j][:3+note_string_len]==\"end\"+score[i] or score[i+j][:note_string_len]==score[i]:\n",
    "                    has_end=True\n",
    "                    break\n",
    "                if score[i+j][-3:]==\"eoc\":\n",
    "                    duration+=1\n",
    "\n",
    "            if not has_end:\n",
    "                duration=12\n",
    "\n",
    "            add_wait = 0\n",
    "            if score[i][-3:]==\"eoc\":\n",
    "                score[i]=score[i][:-3]\n",
    "                add_wait = 1\n",
    "\n",
    "            try: \n",
    "                new_note=music21.note.Note(int(score[i][1:])+note_offset)    \n",
    "                new_note.duration = music21.duration.Duration(duration*speed)\n",
    "                new_note.offset=time_offset*speed\n",
    "                if score[i][0]==\"v\":\n",
    "                    violin_notes.append(new_note)\n",
    "                else:\n",
    "                    piano_notes.append(new_note)                \n",
    "            except:\n",
    "                print(\"Unknown note: \" + score[i])\n",
    "\n",
    "            \n",
    "\n",
    "            \n",
    "            time_offset+=add_wait\n",
    "                \n",
    "    violin=music21.instrument.fromString(\"Violin\")\n",
    "    piano=music21.instrument.fromString(\"Piano\")\n",
    "    violin_notes.insert(0, violin)\n",
    "    piano_notes.insert(0, piano)\n",
    "    violin_stream=music21.stream.Stream(violin_notes)\n",
    "    piano_stream=music21.stream.Stream(piano_notes)\n",
    "    main_stream = music21.stream.Stream([violin_stream, piano_stream])\n",
    "    return main_stream\n",
    "\n",
    "def write_mid_mp3_wav(stream, fname, sample_freq, note_offset, out, chordwise):\n",
    "    stream_out=string_inds_to_stream(stream, sample_freq, note_offset, chordwise)\n",
    "    write_midi(stream_out, fname, out)\n",
    "    base=out/fname[:-4]\n",
    "    os.system(f'./data/mid2mp3.sh {base}.mid')\n",
    "    os.system(f'mpg123 -w {base}.wav {base}.mp3')"
   ]
  },
  {
   "cell_type": "code",
   "execution_count": 22,
   "id": "loving-mortality",
   "metadata": {},
   "outputs": [
    {
     "data": {
      "text/plain": [
       "'p23 wait4 p26 wait1 endp23 wait1 p30 wait1 endp26 wait1 endp30 wait3 endp30 wait1 p35 wait5 endp35 wait1 p38 wait5 endp38 wait1 p42 wait5 endp42 wait1 p45 wait5 endp45 wait1 p47 wait5 endp47 wait1 p47 wait5 endp47 wait1 p45 wait5 endp45 wait1 p42 wait5 endp42 wait1 p38 wait5 endp38 wait1 p30 wait5 endp30 wait1 p28 wait5 endp28 wait1 p21 wait5 endp21 wait1 p18 wait5 endp18 wait1 p14 wait5 endp14 wait1 p7 wait5 endp7 wait1 p9 wait6 p21 wait1 endp9 wait5 endp21 wait1 p26 wait4 p23 wait1 endp26 wait4 p17 endp23 wait5 endp17 wait1 p9 wait5 endp9 wait1 p9 wait5 endp9 wait1 p11 wait5 endp11 wait1 p9 wait5 endp9 wait1 p7 wait6 p6 wait6 p2 wait6 p2 wait6 p2 wait6 p2 wait6 p2 wait6 p2 wait6 p2 wait6 p2 wait6 p2 wait6 p2 wait6 p4 wait6 p1 wait6 p2 wait6 p2 wait6 p2 wait6 p2 wait6 p2 wait6 p2 wait6 p2 wait6 p2 wait6 p2 wait6 p2 wait6 p2 wait6 p2 wait6 p2 wait6 p2 wait5 endp0 wait1 p2 wait6 p2 wait5 endp2 wait1 p2 wait6 p2 wait5 endp2 wait1 p0 wait6 p6 wait5 endp3 wait1 p4 wait6 p9 wait5 endp4 wait1 p2 wait6 p7 wait5 endp2 wait1 p3 wait6 p2 wait5 endp3 wait1 p7 wait6 p7 wait5 endp7 wait1 p9 wait6 p10 wait5 endp9 wait1 p9 wait6 p10 wait5 endp9 wait1 p9 wait6 p9 wait5 endp9 wait1 p8 wait6 p9 wait5 endp8 wait1 p10 wait6 p10 wait5 endp10 wait1 p6 wait6 p10 wait5 endp6 wait1 p8 wait6 p12 wait5 endp8 endp12 wait1 p7 p23 wait6 p11 wait5 endp7 endp11 endp23 wait1 p8 p24 wait6 p11 wait5 endp8 endp12 wait1 p6 wait6 p12 wait5 endp6 endp12 endp24 wait1 p10 p26 wait6 p15 wait5 endp10 endp15 endp26 wait1 p5 p17 wait6 p14 wait5 endp5 endp14 wait1 p10 wait6 p14 wait5 endp10 endp14 endp17 wait1 p5 p20 wait6 p14 wait2 endp5 wait3 endp14 wait1 p8 wait6 p11 wait2 endp11 wait3 endp8 endp20 wait1 p10 wait6 p14 wait5 endp10 endp17 endp26 wait1 p11 p27 wait6 p19 wait5 endp11 endp19 wait1 p10 wait6 p15 wait5 endp10 endp15 endp27 wait1 p8 p23 wait6 p15 wait5 endp8 endp15 endp23 wait1 p9 p19 wait6 p15 wait5 endp9 endp15 wait1 p11 wait6 p15 wait5 endp11 endp15 wait1 p10 wait6 p15 wait5 endp10 endp15 endp27 wait1 p10 p22 wait6 p15 wait5 endp10 endp15 wait1 p11 wait6 p15 wait5 endp11 endp15 endp22 wait1 p11 p23 wait6 p14 wait5 endp11 endp14 endp23 wait1 p8 p20 wait6 p15 wait5 endp8 endp15'"
      ]
     },
     "execution_count": 22,
     "metadata": {},
     "output_type": "execute_result"
    }
   ],
   "source": [
    "preds[0]"
   ]
  },
  {
   "cell_type": "code",
   "execution_count": 1,
   "id": "facial-carrier",
   "metadata": {},
   "outputs": [],
   "source": [
    "a = 'p33 p39 wait3 endp39 wait3 p37 wait5 endp37 wait1 p36 wait5 endp33 endp36 wait1 p37 p52 wait5 endp37 endp52 wait1 p32 p51 wait5 endp51 wait1 p49 wait5 endp49 wait1 p48 wait5 endp48 wait1 p40 p49 wait1 endp32 wait1 endp40 wait3 endp49 wait1 p30 p39 p47 wait5 endp39 endp47 wait1 p37 p45 wait5 endp37 endp45 wait1 p36 p44 wait5 p39 wait3 endp39 wait3 p37 wait5 endp37 wait1 p36 wait5 endp33 endp36 wait1 p37 p52 wait5 endp37 endp52 wait1 p32 p51 wait5 endp51 wait1 p49 wait5 endp49 wait1 p48 wait5 endp48 wait1 p40 p49 wait1 endp32 wait1 endp40 wait3 endp49 wait1 p30 p39 p47 wait5 endp39 endp47 wait1 p37 p45 wait5 endp37 endp45 wait1 p36 p44 wait5 endp36 endp44 wait1'"
   ]
  },
  {
   "cell_type": "code",
   "execution_count": 20,
   "id": "allied-ethernet",
   "metadata": {},
   "outputs": [
    {
     "ename": "KeyError",
     "evalue": "40",
     "output_type": "error",
     "traceback": [
      "\u001b[0;31m---------------------------------------------------------------------------\u001b[0m",
      "\u001b[0;31mKeyError\u001b[0m                                  Traceback (most recent call last)",
      "\u001b[0;32m<ipython-input-20-133069dac1c3>\u001b[0m in \u001b[0;36m<module>\u001b[0;34m\u001b[0m\n\u001b[0;32m----> 1\u001b[0;31m \u001b[0mwrite_mid_mp3_wav\u001b[0m\u001b[0;34m(\u001b[0m\u001b[0ma\u001b[0m\u001b[0;34m,\u001b[0m \u001b[0;34m'test.mid'\u001b[0m\u001b[0;34m,\u001b[0m \u001b[0;36m12\u001b[0m\u001b[0;34m,\u001b[0m \u001b[0;36m33\u001b[0m\u001b[0;34m,\u001b[0m \u001b[0mPath\u001b[0m\u001b[0;34m(\u001b[0m\u001b[0;34m'./data'\u001b[0m\u001b[0;34m)\u001b[0m\u001b[0;34m,\u001b[0m \u001b[0;32mFalse\u001b[0m\u001b[0;34m)\u001b[0m\u001b[0;34m\u001b[0m\u001b[0;34m\u001b[0m\u001b[0m\n\u001b[0m",
      "\u001b[0;32m<ipython-input-3-0d9114fa37d3>\u001b[0m in \u001b[0;36mwrite_mid_mp3_wav\u001b[0;34m(stream, fname, sample_freq, note_offset, out, chordwise)\u001b[0m\n\u001b[1;32m    119\u001b[0m \u001b[0;32mdef\u001b[0m \u001b[0mwrite_mid_mp3_wav\u001b[0m\u001b[0;34m(\u001b[0m\u001b[0mstream\u001b[0m\u001b[0;34m,\u001b[0m \u001b[0mfname\u001b[0m\u001b[0;34m,\u001b[0m \u001b[0msample_freq\u001b[0m\u001b[0;34m,\u001b[0m \u001b[0mnote_offset\u001b[0m\u001b[0;34m,\u001b[0m \u001b[0mout\u001b[0m\u001b[0;34m,\u001b[0m \u001b[0mchordwise\u001b[0m\u001b[0;34m)\u001b[0m\u001b[0;34m:\u001b[0m\u001b[0;34m\u001b[0m\u001b[0;34m\u001b[0m\u001b[0m\n\u001b[1;32m    120\u001b[0m     \u001b[0mstream_out\u001b[0m\u001b[0;34m=\u001b[0m\u001b[0mstring_inds_to_stream\u001b[0m\u001b[0;34m(\u001b[0m\u001b[0mstream\u001b[0m\u001b[0;34m,\u001b[0m \u001b[0msample_freq\u001b[0m\u001b[0;34m,\u001b[0m \u001b[0mnote_offset\u001b[0m\u001b[0;34m,\u001b[0m \u001b[0mchordwise\u001b[0m\u001b[0;34m)\u001b[0m\u001b[0;34m\u001b[0m\u001b[0;34m\u001b[0m\u001b[0m\n\u001b[0;32m--> 121\u001b[0;31m     \u001b[0mwrite_midi\u001b[0m\u001b[0;34m(\u001b[0m\u001b[0mstream_out\u001b[0m\u001b[0;34m,\u001b[0m \u001b[0mfname\u001b[0m\u001b[0;34m,\u001b[0m \u001b[0mout\u001b[0m\u001b[0;34m)\u001b[0m\u001b[0;34m\u001b[0m\u001b[0;34m\u001b[0m\u001b[0m\n\u001b[0m\u001b[1;32m    122\u001b[0m     \u001b[0mbase\u001b[0m\u001b[0;34m=\u001b[0m\u001b[0mout\u001b[0m\u001b[0;34m/\u001b[0m\u001b[0mfname\u001b[0m\u001b[0;34m[\u001b[0m\u001b[0;34m:\u001b[0m\u001b[0;34m-\u001b[0m\u001b[0;36m4\u001b[0m\u001b[0;34m]\u001b[0m\u001b[0;34m\u001b[0m\u001b[0;34m\u001b[0m\u001b[0m\n\u001b[1;32m    123\u001b[0m     \u001b[0mos\u001b[0m\u001b[0;34m.\u001b[0m\u001b[0msystem\u001b[0m\u001b[0;34m(\u001b[0m\u001b[0;34mf'./data/mid2mp3.sh {base}.mid'\u001b[0m\u001b[0;34m)\u001b[0m\u001b[0;34m\u001b[0m\u001b[0;34m\u001b[0m\u001b[0m\n",
      "\u001b[0;32m<ipython-input-3-0d9114fa37d3>\u001b[0m in \u001b[0;36mwrite_midi\u001b[0;34m(s, filename, output_folder)\u001b[0m\n\u001b[1;32m      1\u001b[0m \u001b[0;32mdef\u001b[0m \u001b[0mwrite_midi\u001b[0m\u001b[0;34m(\u001b[0m\u001b[0ms\u001b[0m\u001b[0;34m,\u001b[0m \u001b[0mfilename\u001b[0m\u001b[0;34m,\u001b[0m \u001b[0moutput_folder\u001b[0m\u001b[0;34m)\u001b[0m\u001b[0;34m:\u001b[0m\u001b[0;34m\u001b[0m\u001b[0;34m\u001b[0m\u001b[0m\n\u001b[0;32m----> 2\u001b[0;31m     \u001b[0mfp\u001b[0m \u001b[0;34m=\u001b[0m \u001b[0ms\u001b[0m\u001b[0;34m.\u001b[0m\u001b[0mwrite\u001b[0m\u001b[0;34m(\u001b[0m\u001b[0;34m'midi'\u001b[0m\u001b[0;34m,\u001b[0m \u001b[0mfp\u001b[0m\u001b[0;34m=\u001b[0m\u001b[0moutput_folder\u001b[0m\u001b[0;34m/\u001b[0m\u001b[0mfilename\u001b[0m\u001b[0;34m)\u001b[0m\u001b[0;34m\u001b[0m\u001b[0;34m\u001b[0m\u001b[0m\n\u001b[0m\u001b[1;32m      3\u001b[0m \u001b[0;34m\u001b[0m\u001b[0m\n\u001b[1;32m      4\u001b[0m \u001b[0;32mdef\u001b[0m \u001b[0mstring_inds_to_stream\u001b[0m\u001b[0;34m(\u001b[0m\u001b[0mstring\u001b[0m\u001b[0;34m,\u001b[0m \u001b[0msample_freq\u001b[0m\u001b[0;34m,\u001b[0m \u001b[0mnote_offset\u001b[0m\u001b[0;34m,\u001b[0m \u001b[0mchordwise\u001b[0m\u001b[0;34m)\u001b[0m\u001b[0;34m:\u001b[0m\u001b[0;34m\u001b[0m\u001b[0;34m\u001b[0m\u001b[0m\n\u001b[1;32m      5\u001b[0m     \u001b[0mscore_i\u001b[0m \u001b[0;34m=\u001b[0m \u001b[0mstring\u001b[0m\u001b[0;34m.\u001b[0m\u001b[0msplit\u001b[0m\u001b[0;34m(\u001b[0m\u001b[0;34m\" \"\u001b[0m\u001b[0;34m)\u001b[0m\u001b[0;34m\u001b[0m\u001b[0;34m\u001b[0m\u001b[0m\n",
      "\u001b[0;32m~/anaconda3/lib/python3.8/site-packages/music21/stream/__init__.py\u001b[0m in \u001b[0;36mwrite\u001b[0;34m(self, fmt, fp, **keywords)\u001b[0m\n\u001b[1;32m    251\u001b[0m         \u001b[0;32mif\u001b[0m \u001b[0mself\u001b[0m\u001b[0;34m.\u001b[0m\u001b[0misSorted\u001b[0m \u001b[0;32mis\u001b[0m \u001b[0;32mFalse\u001b[0m \u001b[0;32mand\u001b[0m \u001b[0mself\u001b[0m\u001b[0;34m.\u001b[0m\u001b[0mautoSort\u001b[0m\u001b[0;34m:\u001b[0m  \u001b[0;31m# pragma: no cover\u001b[0m\u001b[0;34m\u001b[0m\u001b[0;34m\u001b[0m\u001b[0m\n\u001b[1;32m    252\u001b[0m             \u001b[0mself\u001b[0m\u001b[0;34m.\u001b[0m\u001b[0msort\u001b[0m\u001b[0;34m(\u001b[0m\u001b[0;34m)\u001b[0m\u001b[0;34m\u001b[0m\u001b[0;34m\u001b[0m\u001b[0m\n\u001b[0;32m--> 253\u001b[0;31m         \u001b[0;32mreturn\u001b[0m \u001b[0msuper\u001b[0m\u001b[0;34m(\u001b[0m\u001b[0;34m)\u001b[0m\u001b[0;34m.\u001b[0m\u001b[0mwrite\u001b[0m\u001b[0;34m(\u001b[0m\u001b[0mfmt\u001b[0m\u001b[0;34m=\u001b[0m\u001b[0mfmt\u001b[0m\u001b[0;34m,\u001b[0m \u001b[0mfp\u001b[0m\u001b[0;34m=\u001b[0m\u001b[0mfp\u001b[0m\u001b[0;34m,\u001b[0m \u001b[0;34m**\u001b[0m\u001b[0mkeywords\u001b[0m\u001b[0;34m)\u001b[0m\u001b[0;34m\u001b[0m\u001b[0;34m\u001b[0m\u001b[0m\n\u001b[0m\u001b[1;32m    254\u001b[0m \u001b[0;34m\u001b[0m\u001b[0m\n\u001b[1;32m    255\u001b[0m     \u001b[0;32mdef\u001b[0m \u001b[0mshow\u001b[0m\u001b[0;34m(\u001b[0m\u001b[0mself\u001b[0m\u001b[0;34m,\u001b[0m \u001b[0mfmt\u001b[0m\u001b[0;34m=\u001b[0m\u001b[0;32mNone\u001b[0m\u001b[0;34m,\u001b[0m \u001b[0mapp\u001b[0m\u001b[0;34m=\u001b[0m\u001b[0;32mNone\u001b[0m\u001b[0;34m,\u001b[0m \u001b[0;34m**\u001b[0m\u001b[0mkeywords\u001b[0m\u001b[0;34m)\u001b[0m\u001b[0;34m:\u001b[0m\u001b[0;34m\u001b[0m\u001b[0;34m\u001b[0m\u001b[0m\n",
      "\u001b[0;32m~/anaconda3/lib/python3.8/site-packages/music21/base.py\u001b[0m in \u001b[0;36mwrite\u001b[0;34m(self, fmt, fp, **keywords)\u001b[0m\n\u001b[1;32m   2550\u001b[0m         \u001b[0mscClass\u001b[0m \u001b[0;34m=\u001b[0m \u001b[0mcommon\u001b[0m\u001b[0;34m.\u001b[0m\u001b[0mfindSubConverterForFormat\u001b[0m\u001b[0;34m(\u001b[0m\u001b[0mregularizedConverterFormat\u001b[0m\u001b[0;34m)\u001b[0m\u001b[0;34m\u001b[0m\u001b[0;34m\u001b[0m\u001b[0m\n\u001b[1;32m   2551\u001b[0m         \u001b[0mformatWriter\u001b[0m \u001b[0;34m=\u001b[0m \u001b[0mscClass\u001b[0m\u001b[0;34m(\u001b[0m\u001b[0;34m)\u001b[0m\u001b[0;34m\u001b[0m\u001b[0;34m\u001b[0m\u001b[0m\n\u001b[0;32m-> 2552\u001b[0;31m         return formatWriter.write(self,\n\u001b[0m\u001b[1;32m   2553\u001b[0m                                   \u001b[0mregularizedConverterFormat\u001b[0m\u001b[0;34m,\u001b[0m\u001b[0;34m\u001b[0m\u001b[0;34m\u001b[0m\u001b[0m\n\u001b[1;32m   2554\u001b[0m                                   \u001b[0mfp\u001b[0m\u001b[0;34m=\u001b[0m\u001b[0mfp\u001b[0m\u001b[0;34m,\u001b[0m\u001b[0;34m\u001b[0m\u001b[0;34m\u001b[0m\u001b[0m\n",
      "\u001b[0;32m~/anaconda3/lib/python3.8/site-packages/music21/converter/subConverters.py\u001b[0m in \u001b[0;36mwrite\u001b[0;34m(self, obj, fmt, fp, subformats, **keywords)\u001b[0m\n\u001b[1;32m   1062\u001b[0m             \u001b[0mmidiTranslateKeywords\u001b[0m\u001b[0;34m[\u001b[0m\u001b[0;34m'addStartDelay'\u001b[0m\u001b[0;34m]\u001b[0m \u001b[0;34m=\u001b[0m \u001b[0mkeywords\u001b[0m\u001b[0;34m[\u001b[0m\u001b[0;34m'addStartDelay'\u001b[0m\u001b[0;34m]\u001b[0m\u001b[0;34m\u001b[0m\u001b[0;34m\u001b[0m\u001b[0m\n\u001b[1;32m   1063\u001b[0m \u001b[0;34m\u001b[0m\u001b[0m\n\u001b[0;32m-> 1064\u001b[0;31m         \u001b[0mmf\u001b[0m \u001b[0;34m=\u001b[0m \u001b[0mmidiTranslate\u001b[0m\u001b[0;34m.\u001b[0m\u001b[0mmusic21ObjectToMidiFile\u001b[0m\u001b[0;34m(\u001b[0m\u001b[0mobj\u001b[0m\u001b[0;34m,\u001b[0m \u001b[0;34m**\u001b[0m\u001b[0mmidiTranslateKeywords\u001b[0m\u001b[0;34m)\u001b[0m\u001b[0;34m\u001b[0m\u001b[0;34m\u001b[0m\u001b[0m\n\u001b[0m\u001b[1;32m   1065\u001b[0m         \u001b[0mmf\u001b[0m\u001b[0;34m.\u001b[0m\u001b[0mopen\u001b[0m\u001b[0;34m(\u001b[0m\u001b[0mfp\u001b[0m\u001b[0;34m,\u001b[0m \u001b[0;34m'wb'\u001b[0m\u001b[0;34m)\u001b[0m  \u001b[0;31m# write binary\u001b[0m\u001b[0;34m\u001b[0m\u001b[0;34m\u001b[0m\u001b[0m\n\u001b[1;32m   1066\u001b[0m         \u001b[0mmf\u001b[0m\u001b[0;34m.\u001b[0m\u001b[0mwrite\u001b[0m\u001b[0;34m(\u001b[0m\u001b[0;34m)\u001b[0m\u001b[0;34m\u001b[0m\u001b[0;34m\u001b[0m\u001b[0m\n",
      "\u001b[0;32m~/anaconda3/lib/python3.8/site-packages/music21/midi/translate.py\u001b[0m in \u001b[0;36mmusic21ObjectToMidiFile\u001b[0;34m(music21Object, addStartDelay)\u001b[0m\n\u001b[1;32m    252\u001b[0m             \u001b[0mmusic21Object\u001b[0m \u001b[0;34m=\u001b[0m \u001b[0mmusic21Object\u001b[0m\u001b[0;34m.\u001b[0m\u001b[0mtoSoundingPitch\u001b[0m\u001b[0;34m(\u001b[0m\u001b[0;34m)\u001b[0m\u001b[0;34m\u001b[0m\u001b[0;34m\u001b[0m\u001b[0m\n\u001b[1;32m    253\u001b[0m \u001b[0;34m\u001b[0m\u001b[0m\n\u001b[0;32m--> 254\u001b[0;31m         \u001b[0;32mreturn\u001b[0m \u001b[0mstreamToMidiFile\u001b[0m\u001b[0;34m(\u001b[0m\u001b[0mmusic21Object\u001b[0m\u001b[0;34m,\u001b[0m \u001b[0maddStartDelay\u001b[0m\u001b[0;34m=\u001b[0m\u001b[0maddStartDelay\u001b[0m\u001b[0;34m)\u001b[0m\u001b[0;34m\u001b[0m\u001b[0;34m\u001b[0m\u001b[0m\n\u001b[0m\u001b[1;32m    255\u001b[0m     \u001b[0;32melse\u001b[0m\u001b[0;34m:\u001b[0m\u001b[0;34m\u001b[0m\u001b[0;34m\u001b[0m\u001b[0m\n\u001b[1;32m    256\u001b[0m         \u001b[0mm21ObjectCopy\u001b[0m \u001b[0;34m=\u001b[0m \u001b[0mcopy\u001b[0m\u001b[0;34m.\u001b[0m\u001b[0mdeepcopy\u001b[0m\u001b[0;34m(\u001b[0m\u001b[0mmusic21Object\u001b[0m\u001b[0;34m)\u001b[0m\u001b[0;34m\u001b[0m\u001b[0;34m\u001b[0m\u001b[0m\n",
      "\u001b[0;32m~/anaconda3/lib/python3.8/site-packages/music21/midi/translate.py\u001b[0m in \u001b[0;36mstreamToMidiFile\u001b[0;34m(inputM21, addStartDelay)\u001b[0m\n\u001b[1;32m   2362\u001b[0m \u001b[0;34m\u001b[0m\u001b[0m\n\u001b[1;32m   2363\u001b[0m     \u001b[0ms\u001b[0m \u001b[0;34m=\u001b[0m \u001b[0minputM21\u001b[0m\u001b[0;34m\u001b[0m\u001b[0;34m\u001b[0m\u001b[0m\n\u001b[0;32m-> 2364\u001b[0;31m     \u001b[0mmidiTracks\u001b[0m \u001b[0;34m=\u001b[0m \u001b[0mstreamHierarchyToMidiTracks\u001b[0m\u001b[0;34m(\u001b[0m\u001b[0ms\u001b[0m\u001b[0;34m,\u001b[0m \u001b[0maddStartDelay\u001b[0m\u001b[0;34m=\u001b[0m\u001b[0maddStartDelay\u001b[0m\u001b[0;34m)\u001b[0m\u001b[0;34m\u001b[0m\u001b[0;34m\u001b[0m\u001b[0m\n\u001b[0m\u001b[1;32m   2365\u001b[0m \u001b[0;34m\u001b[0m\u001b[0m\n\u001b[1;32m   2366\u001b[0m     \u001b[0;31m# may need to update channel information\u001b[0m\u001b[0;34m\u001b[0m\u001b[0;34m\u001b[0m\u001b[0;34m\u001b[0m\u001b[0m\n",
      "\u001b[0;32m~/anaconda3/lib/python3.8/site-packages/music21/midi/translate.py\u001b[0m in \u001b[0;36mstreamHierarchyToMidiTracks\u001b[0;34m(inputM21, acceptableChannelList, addStartDelay)\u001b[0m\n\u001b[1;32m   2242\u001b[0m \u001b[0;34m\u001b[0m\u001b[0m\n\u001b[1;32m   2243\u001b[0m     \u001b[0mpacketStorage\u001b[0m \u001b[0;34m=\u001b[0m \u001b[0mpacketStorageFromSubstreamList\u001b[0m\u001b[0;34m(\u001b[0m\u001b[0msubstreamList\u001b[0m\u001b[0;34m,\u001b[0m \u001b[0maddStartDelay\u001b[0m\u001b[0;34m=\u001b[0m\u001b[0maddStartDelay\u001b[0m\u001b[0;34m)\u001b[0m\u001b[0;34m\u001b[0m\u001b[0;34m\u001b[0m\u001b[0m\n\u001b[0;32m-> 2244\u001b[0;31m     \u001b[0mupdatePacketStorageWithChannelInfo\u001b[0m\u001b[0;34m(\u001b[0m\u001b[0mpacketStorage\u001b[0m\u001b[0;34m,\u001b[0m \u001b[0mchannelByInstrument\u001b[0m\u001b[0;34m)\u001b[0m\u001b[0;34m\u001b[0m\u001b[0;34m\u001b[0m\u001b[0m\n\u001b[0m\u001b[1;32m   2245\u001b[0m \u001b[0;34m\u001b[0m\u001b[0m\n\u001b[1;32m   2246\u001b[0m     \u001b[0minitTrackIdToChannelMap\u001b[0m \u001b[0;34m=\u001b[0m \u001b[0;34m{\u001b[0m\u001b[0;34m}\u001b[0m\u001b[0;34m\u001b[0m\u001b[0;34m\u001b[0m\u001b[0m\n",
      "\u001b[0;32m~/anaconda3/lib/python3.8/site-packages/music21/midi/translate.py\u001b[0m in \u001b[0;36mupdatePacketStorageWithChannelInfo\u001b[0;34m(packetStorage, channelByInstrument)\u001b[0m\n\u001b[1;32m   2185\u001b[0m             \u001b[0minitCh\u001b[0m \u001b[0;34m=\u001b[0m \u001b[0;32mNone\u001b[0m\u001b[0;34m\u001b[0m\u001b[0;34m\u001b[0m\u001b[0m\n\u001b[1;32m   2186\u001b[0m         \u001b[0;32melse\u001b[0m\u001b[0;34m:\u001b[0m  \u001b[0;31m# use midi program\u001b[0m\u001b[0;34m\u001b[0m\u001b[0;34m\u001b[0m\u001b[0m\n\u001b[0;32m-> 2187\u001b[0;31m             \u001b[0minitCh\u001b[0m \u001b[0;34m=\u001b[0m \u001b[0mchannelByInstrument\u001b[0m\u001b[0;34m[\u001b[0m\u001b[0minstObj\u001b[0m\u001b[0;34m.\u001b[0m\u001b[0mmidiProgram\u001b[0m\u001b[0;34m]\u001b[0m\u001b[0;34m\u001b[0m\u001b[0;34m\u001b[0m\u001b[0m\n\u001b[0m\u001b[1;32m   2188\u001b[0m         \u001b[0mbundle\u001b[0m\u001b[0;34m[\u001b[0m\u001b[0;34m'initChannel'\u001b[0m\u001b[0;34m]\u001b[0m \u001b[0;34m=\u001b[0m \u001b[0minitCh\u001b[0m  \u001b[0;31m# set for bundle too\u001b[0m\u001b[0;34m\u001b[0m\u001b[0;34m\u001b[0m\u001b[0m\n\u001b[1;32m   2189\u001b[0m \u001b[0;34m\u001b[0m\u001b[0m\n",
      "\u001b[0;31mKeyError\u001b[0m: 40"
     ]
    }
   ],
   "source": [
    "write_mid_mp3_wav(a, 'test.mid', 12, 33, Path('./data'), False)"
   ]
  },
  {
   "cell_type": "code",
   "execution_count": 11,
   "id": "equivalent-tablet",
   "metadata": {},
   "outputs": [
    {
     "data": {
      "text/plain": [
       "Path('result/mid')"
      ]
     },
     "execution_count": 11,
     "metadata": {},
     "output_type": "execute_result"
    }
   ],
   "source": [
    "data_folder = Path('./result/mid')\n",
    "data_folder"
   ]
  },
  {
   "cell_type": "code",
   "execution_count": 17,
   "id": "allied-tolerance",
   "metadata": {},
   "outputs": [
    {
     "data": {
      "text/plain": [
       "(#1) [Path('result/mid/Bach_2PartInv_No1_in_C_BWV772.mid')]"
      ]
     },
     "execution_count": 17,
     "metadata": {},
     "output_type": "execute_result"
    }
   ],
   "source": [
    "from IPython.display import Audio\n",
    "audio_files = data_folder.ls()\n",
    "audio_files"
   ]
  },
  {
   "cell_type": "code",
   "execution_count": 18,
   "id": "committed-birmingham",
   "metadata": {
    "scrolled": true
   },
   "outputs": [
    {
     "data": {
      "text/html": [
       "\n",
       "                <audio  controls=\"controls\" >\n",
       "                    <source src=\"data:audio/midi;base64,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\" type=\"audio/midi\" />\n",
       "                    Your browser does not support the audio element.\n",
       "                </audio>\n",
       "              "
      ],
      "text/plain": [
       "<IPython.lib.display.Audio object>"
      ]
     },
     "execution_count": 18,
     "metadata": {},
     "output_type": "execute_result"
    }
   ],
   "source": [
    "from IPython.display import Audio\n",
    "audio_files = data_folder.ls()\n",
    "example = audio_files[0]\n",
    "Audio(str(example))"
   ]
  }
 ],
 "metadata": {
  "kernelspec": {
   "display_name": "Python 3",
   "language": "python",
   "name": "python3"
  },
  "language_info": {
   "codemirror_mode": {
    "name": "ipython",
    "version": 3
   },
   "file_extension": ".py",
   "mimetype": "text/x-python",
   "name": "python",
   "nbconvert_exporter": "python",
   "pygments_lexer": "ipython3",
   "version": "3.8.8"
  }
 },
 "nbformat": 4,
 "nbformat_minor": 5
}
